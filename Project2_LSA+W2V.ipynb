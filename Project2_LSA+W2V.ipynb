{
 "cells": [
  {
   "cell_type": "code",
   "execution_count": 1,
   "id": "c9b35f72",
   "metadata": {
    "colab": {
     "base_uri": "https://localhost:8080/"
    },
    "id": "0c75cff8",
    "outputId": "220c234b-3ae9-4a24-e617-20b9b0ee07a9"
   },
   "outputs": [
    {
     "name": "stderr",
     "output_type": "stream",
     "text": [
      "[nltk_data] Downloading package omw-1.4 to /home/rishaab/nltk_data...\n",
      "[nltk_data]   Package omw-1.4 is already up-to-date!\n"
     ]
    }
   ],
   "source": [
    "import json\n",
    "import matplotlib.pyplot as plt\n",
    "import numpy as np\n",
    "import nltk\n",
    "nltk.download('omw-1.4')\n",
    "def split(txt, seps):\n",
    "    default_sep = seps[0]\n",
    "\n",
    "    # we skip seps[0] because that's the default separator\n",
    "    for sep in seps[1:]:\n",
    "        txt = txt.replace(sep, default_sep)\n",
    "    return [i.strip() for i in txt.split(default_sep)]\n"
   ]
  },
  {
   "cell_type": "code",
   "execution_count": 2,
   "id": "93cc4604",
   "metadata": {
    "colab": {
     "base_uri": "https://localhost:8080/"
    },
    "id": "f2c50feb",
    "outputId": "bcdfeb08-ab43-496c-9ca7-d9ea61d840b7"
   },
   "outputs": [
    {
     "name": "stderr",
     "output_type": "stream",
     "text": [
      "[nltk_data] Downloading package punkt to /home/rishaab/nltk_data...\n",
      "[nltk_data]   Package punkt is already up-to-date!\n"
     ]
    }
   ],
   "source": [
    "nltk.download('punkt')\n",
    "\n",
    "\n",
    "class SentenceSegmentation():\n",
    "\n",
    "\tdef naive(self, text):\n",
    "\t\t\"\"\"\n",
    "\t\tSentence Segmentation using a Naive Approach\n",
    "\n",
    "\t\tParameters\n",
    "\t\t----------\n",
    "\t\targ1 : str\n",
    "\t\t\tA string (a bunch of sentences)\n",
    "\n",
    "\t\tReturns\n",
    "\t\t-------\n",
    "\t\tlist\n",
    "\t\t\tA list of strings where each string is a single sentence\n",
    "\t\t\"\"\"\n",
    "\n",
    "\t\tsegmentedText = []\n",
    "\n",
    "\t\t#Fill in code here\n",
    "\t\tsegmentedText=split(text,('.','!','?'))\n",
    "\t\t\n",
    "\n",
    "\t\treturn segmentedText\n",
    "\n",
    "\n",
    "\n",
    "\n",
    "\n",
    "\tdef punkt(self, text):\n",
    "\t\t\"\"\"\n",
    "\t\tSentence Segmentation using the Punkt Tokenizer\n",
    "\n",
    "\t\tParameters\n",
    "\t\t----------\n",
    "\t\targ1 : str\n",
    "\t\t\tA string (a bunch of sentences)\n",
    "\n",
    "\t\tReturns\n",
    "\t\t-------\n",
    "\t\tlist\n",
    "\t\t\tA list of strings where each strin is a single sentence\n",
    "\t\t\"\"\"\n",
    "\t\ttokenizer = nltk.tokenize.punkt.PunktSentenceTokenizer()\n",
    "\t\tsegmentedText = tokenizer.tokenize(text)\n",
    "\n",
    "\t\t#Fill in code here\n",
    "\t\t\n",
    "\t\treturn segmentedText"
   ]
  },
  {
   "cell_type": "code",
   "execution_count": 3,
   "id": "f79d7dcd",
   "metadata": {
    "id": "dae423c8"
   },
   "outputs": [],
   "source": [
    "import re\n",
    "from nltk.tokenize import TreebankWordTokenizer\n",
    "\n",
    "\n",
    "class Tokenization():\n",
    "\n",
    "    def naive(self, text):\n",
    "        \"\"\"\n",
    "        Tokenization using a Naive Approach\n",
    "\n",
    "        Parameters\n",
    "        ----------\n",
    "        text : list\n",
    "            A list of strings where each string is a single sentence\n",
    "\n",
    "        Returns\n",
    "        -------\n",
    "        list\n",
    "            A list of lists where each sub-list is a sequence of tokens\n",
    "        \"\"\"\n",
    "\n",
    "        tokenizedText = None\n",
    "        self.n = len(text)\n",
    "        for i in range(self.n):\n",
    "            temp = text[i]\n",
    "            token = re.findall(r'\\w+|[^\\w\\s]', temp)\n",
    "            text[i] = token\n",
    "        tokenizedText = text\n",
    "\n",
    "        return tokenizedText\n",
    "\n",
    "\n",
    "    def pennTreeBank(self, text):\n",
    "        \"\"\"\n",
    "        Tokenization using the Penn Tree Bank Tokenizer\n",
    "\n",
    "        Parameters\n",
    "        ----------\n",
    "        text : list\n",
    "            A list of strings where each string is a single sentence\n",
    "\n",
    "        Returns\n",
    "        -------\n",
    "        list\n",
    "            A list of lists where each sub-list is a sequence of tokens\n",
    "        \"\"\"\n",
    "\n",
    "        tokenizedText = []\n",
    "        for sentence in text:\n",
    "            tokens = TreebankWordTokenizer().tokenize(sentence)\n",
    "            tokenizedText.append(tokens)\n",
    "\n",
    "        return tokenizedText"
   ]
  },
  {
   "cell_type": "code",
   "execution_count": 4,
   "id": "32ebfb99",
   "metadata": {
    "colab": {
     "base_uri": "https://localhost:8080/"
    },
    "id": "4971f99a",
    "outputId": "d766e4a0-ad10-44cb-8ebe-076049869911"
   },
   "outputs": [
    {
     "name": "stderr",
     "output_type": "stream",
     "text": [
      "[nltk_data] Downloading package stopwords to\n",
      "[nltk_data]     /home/rishaab/nltk_data...\n",
      "[nltk_data]   Package stopwords is already up-to-date!\n"
     ]
    }
   ],
   "source": [
    "nltk.download('stopwords')\n",
    "from nltk.corpus import stopwords\n",
    "\n",
    "class StopwordRemoval():\n",
    "\n",
    "    def fromList(self, text):\n",
    "        \"\"\"\n",
    "        Sentence Segmentation using the Punkt Tokenizer\n",
    "\n",
    "        Parameters\n",
    "        ----------\n",
    "        arg1 : list\n",
    "            A list of lists where each sub-list is a sequence of tokens\n",
    "            representing a sentence\n",
    "\n",
    "        Returns\n",
    "        -------\n",
    "        list\n",
    "            A list of lists where each sub-list is a sequence of tokens\n",
    "            representing a sentence with stopwords removed\n",
    "        \"\"\"\n",
    "\n",
    "        stopwordRemovedText = []\n",
    "        stop_words = stopwords.words('english')\n",
    "        for sentence in text:\n",
    "            temp = [word for word in sentence if word not in stop_words]\n",
    "            stopwordRemovedText.append(temp)\n",
    "\n",
    "        return stopwordRemovedText"
   ]
  },
  {
   "cell_type": "code",
   "execution_count": 5,
   "id": "43d1051d",
   "metadata": {
    "id": "e52ac481",
    "scrolled": true
   },
   "outputs": [],
   "source": [
    "#from util import *\n",
    "import pandas as pd\n",
    "import numpy as np\n",
    "import pandas as pd\n",
    "import numpy as np\n",
    "from sklearn.feature_extraction.text import TfidfVectorizer\n",
    "from sklearn.metrics.pairwise import cosine_similarity\n",
    "import gensim.downloader as api\n",
    "from sklearn.decomposition import TruncatedSVD\n",
    "\n",
    "model = api.load('glove-wiki-gigaword-300')\n",
    "\n",
    "class InformationRetrieval():\n",
    "\n",
    "    def __init__(self):\n",
    "        self.index = None\n",
    "        self.doc_num = None\n",
    "\n",
    "    def buildIndex(self, docs, docIDs):\n",
    "        \"\"\"\n",
    "        Builds the document index in terms of the document\n",
    "\t\tIDs and stores it in the 'index' class variable\n",
    "\n",
    "\t\tParameters\n",
    "\t\t----------\n",
    "\t\targ1 : list\n",
    "\t\t\tA list of lists of lists where each sub-list is\n",
    "\t\t\ta document and each sub-sub-list is a sentence of the document\n",
    "\t\targ2 : list\n",
    "\t\t\tA list of integers denoting IDs of the documents\n",
    "\t\tReturns\n",
    "\t\t-------\n",
    "\t\tNone\n",
    "\t\t\"\"\"\n",
    "        self.docs=[]\n",
    "        self.docIDs = docIDs\n",
    "        self.doc_num = len(docIDs)\n",
    "        for doc in docs:\n",
    "            d=''\n",
    "            for sentence in doc:\n",
    "                sent=' '.join(sentence)\n",
    "                d+=sent\n",
    "            self.docs.append(d)\n",
    "        #Fill in code here\n",
    "        tfidf=TfidfVectorizer()\n",
    "        tfidfv=tfidf.fit_transform(self.docs).toarray()\n",
    "        words_set = tfidf.get_feature_names_out()\n",
    "        self.vocab=tfidf.vocabulary_\n",
    "        tfidf_df = pd.DataFrame(tfidfv,columns=words_set)\n",
    "        self.tfidf=tfidf\n",
    "        return tfidf_df\n",
    "\n",
    "    def tfidfq(self,queries):\n",
    "        q=[]\n",
    "        for query in queries:\n",
    "            query1=''\n",
    "            for sentence in query:\n",
    "                sent=' '.join(sentence)\n",
    "                query1+=sent\n",
    "            q.append(query1)\n",
    "        tfidfq=self.tfidf.transform(q).toarray()\n",
    "        c=self.tfidf.get_feature_names_out()\n",
    "        tfidfq_df=pd.DataFrame(tfidfq,columns=c)\n",
    "        return tfidfq_df\n",
    "    \n",
    "    def lsa_doc(self, doc_df, k):\n",
    "        self.lsa = TruncatedSVD(k, random_state = 42)\n",
    "        self.lsa.fit(doc_df)\n",
    "        self.sigma=np.diag(self.lsa.singular_values_)\n",
    "        self.v_trans = self.lsa.components_\n",
    "        doc_mat=self.lsa.transform(doc_df)\n",
    "        doc_dfv=doc_mat@self.v_trans\n",
    "        doc_df=pd.DataFrame(doc_dfv,columns=doc_df.columns)\n",
    "        return pd.DataFrame(doc_df)\n",
    "    \n",
    "    def lsa_query(self, query_mat):\n",
    "        qmat=self.lsa.transform(query_mat)\n",
    "        q_dfv=qmat@self.v_trans\n",
    "        q_df=pd.DataFrame(q_dfv,columns=query_mat.columns)\n",
    "        return pd.DataFrame(q_df)    \n",
    "    \n",
    "    def w2v(self,df):\n",
    "        embedding=np.zeros((len(df.columns),model.vector_size))\n",
    "        for word, index in self.vocab.items():\n",
    "            if word in model.key_to_index:\n",
    "                embedding[index]=model[word]\n",
    "        mtfidfv=np.array(df).dot(embedding)\n",
    "        return pd.DataFrame(mtfidfv)\n",
    "\n",
    "    def rank(self,doc_ids,doc_df,q_df):\n",
    "        doc_ordered=[]\n",
    "        q_a=np.array(q_df)\n",
    "        for q in q_a:\n",
    "            cosines=pd.DataFrame(cosine_similarity(doc_df,[q]))\n",
    "            cosines['DocIDs']=self.docIDs\n",
    "            cols=cosines.columns[0]\n",
    "            doc_ordered.append(cosines.sort_values(cols,ascending=False)['DocIDs'])\n",
    "        return doc_ordered"
   ]
  },
  {
   "cell_type": "code",
   "execution_count": 6,
   "id": "7c7e1251",
   "metadata": {
    "id": "1f9eb28f"
   },
   "outputs": [],
   "source": [
    "from math import log2\n",
    "\n",
    "\n",
    "class Evaluation():\n",
    "\n",
    "    def queryPrecision(self, query_doc_IDs_ordered, query_id, true_doc_IDs, k):\n",
    "        \"\"\"\n",
    "        Computation of precision of the Information Retrieval System\n",
    "        at a given value of k for a single query\n",
    "\n",
    "        Parameters\n",
    "        ----------\n",
    "        arg1 : list\n",
    "                A list of integers denoting the IDs of documents in\n",
    "                their predicted order of relevance to a query\n",
    "        arg2 : int\n",
    "                The ID of the query in question\n",
    "        arg3 : list\n",
    "                The list of IDs of documents relevant to the query (ground truth)\n",
    "        arg4 : int\n",
    "                The k value\n",
    "\n",
    "        Returns\n",
    "        -------\n",
    "        float\n",
    "                The precision value as a number between 0 and 1\n",
    "        \"\"\"\n",
    "        number_of_docs_retrieved = len(query_doc_IDs_ordered)\n",
    "        try:\n",
    "            assert k <= number_of_docs_retrieved, \"k greater than the number of documents retrived. Returning -1\"\n",
    "            num_true_docs_retrieved = 0\n",
    "            for docID in query_doc_IDs_ordered[:k]:\n",
    "                if int(docID) in true_doc_IDs:\n",
    "                    num_true_docs_retrieved += 1\n",
    "            precision = num_true_docs_retrieved/k\n",
    "            return precision\n",
    "        except AssertionError as message:\n",
    "            print(message)\n",
    "            return -1\n",
    "\n",
    "    def meanPrecision(self, doc_IDs_ordered, query_ids, qrels, k):\n",
    "        \"\"\"\n",
    "        Computation of precision of the Information Retrieval System\n",
    "        at a given value of k, averaged over all the queries\n",
    "\n",
    "        Parameters\n",
    "        ----------\n",
    "        arg1 : list\n",
    "                A list of lists of integers where the ith sub-list is a list of IDs\n",
    "                of documents in their predicted order of relevance to the ith query\n",
    "        arg2 : list\n",
    "                A list of IDs of the queries for which the documents are ordered\n",
    "        arg3 : list\n",
    "                A list of dictionaries containing document-relevance\n",
    "                judgements - Refer cran_qrels.json for the structure of each\n",
    "                dictionary\n",
    "        arg4 : int\n",
    "                The k value\n",
    "\n",
    "        Returns\n",
    "        -------\n",
    "        float\n",
    "                The mean precision value as a number between 0 and 1\n",
    "        \"\"\"\n",
    "        number_of_queries = len(query_ids)\n",
    "        precisions = []\n",
    "        try:\n",
    "            assert len(doc_IDs_ordered) == len(\n",
    "                query_ids), \"Number of queries not equal to the number of sets of documents retrieved.\\nReturning -1.\"\n",
    "            for i in range(number_of_queries):\n",
    "                query_doc_IDs_ordered = doc_IDs_ordered[i]\n",
    "                query_id = int(query_ids[i])\n",
    "                true_doc_IDs = []\n",
    "                for dict_ in qrels:\n",
    "                    if int(dict_[\"query_num\"]) == int(query_id):\n",
    "                        true_doc_IDs.append(int(dict_[\"id\"]))\n",
    "                precision = self.queryPrecision(\n",
    "                    query_doc_IDs_ordered, query_id, true_doc_IDs, k)\n",
    "                precisions.append(precision)\n",
    "            try:\n",
    "                assert len(precisions) != 0, \"Error! Empty list. Returning -1.\"\n",
    "                return sum(precisions)/len(precisions)\n",
    "            except AssertionError as msg:\n",
    "                print(msg)\n",
    "                return -1\n",
    "\n",
    "        except AssertionError as message:\n",
    "            print(message)\n",
    "            return -1\n",
    "\n",
    "    def queryRecall(self, query_doc_IDs_ordered, query_id, true_doc_IDs, k):\n",
    "        \"\"\"\n",
    "        Computation of recall of the Information Retrieval System\n",
    "        at a given value of k for a single query\n",
    "\n",
    "        Parameters\n",
    "        ----------\n",
    "        arg1 : list\n",
    "                A list of integers denoting the IDs of documents in\n",
    "                their predicted order of relevance to a query\n",
    "        arg2 : int\n",
    "                The ID of the query in question\n",
    "        arg3 : list\n",
    "                The list of IDs of documents relevant to the query (ground truth)\n",
    "        arg4 : int\n",
    "                The k value\n",
    "\n",
    "        Returns\n",
    "        -------\n",
    "        float\n",
    "                The recall value as a number between 0 and 1\n",
    "        \"\"\"\n",
    "        number_of_docs_retrieved = len(query_doc_IDs_ordered)\n",
    "        number_of_true_docs = len(true_doc_IDs)\n",
    "        try:\n",
    "            assert k <= number_of_docs_retrieved, \"k greater than the number of documents retrived. Returning -1\"\n",
    "            num_true_docs_retrieved = 0\n",
    "            for docID in query_doc_IDs_ordered[:k]:\n",
    "                if int(docID) in true_doc_IDs:\n",
    "                    num_true_docs_retrieved += 1\n",
    "            recall = num_true_docs_retrieved/number_of_true_docs\n",
    "            return recall\n",
    "        except AssertionError as message:\n",
    "            print(message)\n",
    "            return -1\n",
    "\n",
    "    def meanRecall(self, doc_IDs_ordered, query_ids, qrels, k):\n",
    "        \"\"\"\n",
    "        Computation of recall of the Information Retrieval System\n",
    "        at a given value of k, averaged over all the queries\n",
    "\n",
    "        Parameters\n",
    "        ----------\n",
    "        arg1 : list\n",
    "                A list of lists of integers where the ith sub-list is a list of IDs\n",
    "                of documents in their predicted order of relevance to the ith query\n",
    "        arg2 : list\n",
    "                A list of IDs of the queries for which the documents are ordered\n",
    "        arg3 : list\n",
    "                A list of dictionaries containing document-relevance\n",
    "                judgements - Refer cran_qrels.json for the structure of each\n",
    "                dictionary\n",
    "        arg4 : int\n",
    "                The k value\n",
    "\n",
    "        Returns\n",
    "        -------\n",
    "        float\n",
    "                The mean recall value as a number between 0 and 1\n",
    "        \"\"\"\n",
    "        number_of_queries = len(query_ids)\n",
    "        recalls = []\n",
    "        try:\n",
    "            assert len(doc_IDs_ordered) == len(\n",
    "                query_ids), \"Number of queries not equal to the number of sets of documents retrieved.\\nReturning -1.\"\n",
    "            for i in range(number_of_queries):\n",
    "                query_doc_IDs_ordered = doc_IDs_ordered[i]\n",
    "                query_id = query_ids[i]\n",
    "                true_doc_IDs = []\n",
    "                for dict_ in qrels:\n",
    "                    if int(dict_[\"query_num\"]) == int(query_id):\n",
    "                        true_doc_IDs.append(int(dict_[\"id\"]))\n",
    "\n",
    "                recall = self.queryRecall(\n",
    "                    query_doc_IDs_ordered, query_id, true_doc_IDs, k)\n",
    "                recalls.append(recall)\n",
    "            try:\n",
    "                assert len(recalls) != 0, \"Error! Empty list. Returning -1.\"\n",
    "                return sum(recalls)/len(recalls)\n",
    "            except AssertionError as msg:\n",
    "                print(msg)\n",
    "                return -1\n",
    "\n",
    "        except AssertionError as message:\n",
    "            print(message)\n",
    "            return -1\n",
    "\n",
    "    def queryFscore(self, query_doc_IDs_ordered, query_id, true_doc_IDs, k):\n",
    "        \"\"\"\n",
    "        Computation of fscore of the Information Retrieval System\n",
    "        at a given value of k for a single query\n",
    "\n",
    "        Parameters\n",
    "        ----------\n",
    "        arg1 : list\n",
    "                A list of integers denoting the IDs of documents in\n",
    "                their predicted order of relevance to a query\n",
    "        arg2 : int\n",
    "                The ID of the query in question\n",
    "        arg3 : list\n",
    "                The list of IDs of documents relevant to the query (ground truth)\n",
    "        arg4 : int\n",
    "                The k value\n",
    "\n",
    "        Returns\n",
    "        -------\n",
    "        float\n",
    "                The fscore value as a number between 0 and 1\n",
    "        \"\"\"\n",
    "        fscore = 0\n",
    "        precision = self.queryPrecision(\n",
    "            query_doc_IDs_ordered, query_id, true_doc_IDs, k)\n",
    "        recall = self.queryRecall(\n",
    "            query_doc_IDs_ordered, query_id, true_doc_IDs, k)\n",
    "        if (precision > 0 and recall > 0):\n",
    "            fscore = 2*precision*recall/(precision+recall)\n",
    "        return fscore\n",
    "\n",
    "    def meanFscore(self, doc_IDs_ordered, query_ids, qrels, k):\n",
    "        \"\"\"\n",
    "        Computation of fscore of the Information Retrieval System\n",
    "        at a given value of k, averaged over all the queries\n",
    "\n",
    "        Parameters\n",
    "        ----------\n",
    "        arg1 : list\n",
    "                A list of lists of integers where the ith sub-list is a list of IDs\n",
    "                of documents in their predicted order of relevance to the ith query\n",
    "        arg2 : list\n",
    "                A list of IDs of the queries for which the documents are ordered\n",
    "        arg3 : list\n",
    "                A list of dictionaries containing document-relevance\n",
    "                judgements - Refer cran_qrels.json for the structure of each\n",
    "                dictionary\n",
    "        arg4 : int\n",
    "                The k value\n",
    "\n",
    "        Returns\n",
    "        -------\n",
    "        float\n",
    "                The mean fscore value as a number between 0 and 1\n",
    "        \"\"\"\n",
    "\n",
    "        number_of_queries = len(query_ids)\n",
    "        fscores = []\n",
    "        try:\n",
    "            assert len(doc_IDs_ordered) == len(\n",
    "                query_ids), \"Number of queries not equal to the number of sets of documents retrieved.\\nReturning -1.\"\n",
    "            for i in range(number_of_queries):\n",
    "                query_doc_IDs_ordered = doc_IDs_ordered[i]\n",
    "                query_id = query_ids[i]\n",
    "                true_doc_IDs = []\n",
    "                for dict_ in qrels:\n",
    "                    if int(dict_[\"query_num\"]) == int(query_id):\n",
    "                        true_doc_IDs.append(int(dict_[\"id\"]))\n",
    "                fscore = self.queryFscore(\n",
    "                    query_doc_IDs_ordered, query_id, true_doc_IDs, k)\n",
    "                fscores.append(fscore)\n",
    "            try:\n",
    "                assert len(fscores) != 0, \"Error! Empty list. Returning -1.\"\n",
    "                return sum(fscores)/len(fscores)\n",
    "            except AssertionError as msg:\n",
    "                print(msg)\n",
    "                return -1\n",
    "\n",
    "        except AssertionError as message:\n",
    "            print(message)\n",
    "            return -1\n",
    "\n",
    "    def queryNDCG(self, query_doc_IDs_ordered, query_id, true_doc_IDs, k):\n",
    "        \"\"\"\n",
    "        Computation of nDCG of the Information Retrieval System\n",
    "        at given value of k for a single query\n",
    "\n",
    "        Parameters\n",
    "        ----------\n",
    "        arg1 : list\n",
    "                A list of integers denoting the IDs of documents in\n",
    "                their predicted order of relevance to a query\n",
    "        arg2 : int\n",
    "                The ID of the query in question\n",
    "        arg3 : list\n",
    "                The qrels list of dictionaries \n",
    "        arg4 : int\n",
    "                The k value\n",
    "\n",
    "        Returns\n",
    "        -------\n",
    "        float\n",
    "                The nDCG value as a number between 0 and 1\n",
    "        \"\"\"\n",
    "        number_of_docs_retrieved = len(query_doc_IDs_ordered)\n",
    "        try:\n",
    "            assert k <= number_of_docs_retrieved, \"k greater than the number of documents retrived. Returning -1\"\n",
    "            relevance_vals = {}\n",
    "            relevant_docs = []\n",
    "            DCGk = 0\n",
    "            IDCGk = 0\n",
    "            for dict_ in true_doc_IDs:\n",
    "                if int(dict_[\"query_num\"]) == int(query_id):\n",
    "                    id_ = int(dict_[\"id\"])\n",
    "                    relevance = 5-dict_[\"position\"]\n",
    "                    relevant_docs.append(int(id_))\n",
    "                    relevance_vals[int(id_)] = relevance\n",
    "\n",
    "            for i in range(1, k+1):\n",
    "                docID = int(query_doc_IDs_ordered[i-1])\n",
    "                if docID in relevant_docs:\n",
    "                    relevance = relevance_vals[docID]\n",
    "                    DCGk += (2**relevance-1)/log2(i+1)\n",
    "\n",
    "            optimal_order = sorted(relevance_vals.values(), reverse=True)\n",
    "            number_of_relevant_docs = len(optimal_order)\n",
    "            for i in range(1, min(number_of_relevant_docs, k)+1):\n",
    "                relevance = optimal_order[i-1]\n",
    "                IDCGk += (2**relevance-1)/log2(i+1)\n",
    "\n",
    "            try:\n",
    "                assert IDCGk != 0, \"IDCGk is zero. Returning -1\"\n",
    "                nDCGk = DCGk/IDCGk\n",
    "\n",
    "                return nDCGk\n",
    "            except AssertionError as msg:\n",
    "                print(msg)\n",
    "                return -1\n",
    "\n",
    "        except AssertionError as message:\n",
    "            print(message)\n",
    "            return -1\n",
    "\n",
    "    def meanNDCG(self, doc_IDs_ordered, query_ids, qrels, k):\n",
    "        \"\"\"\n",
    "        Computation of nDCG of the Information Retrieval System\n",
    "        at a given value of k, averaged over all the queries\n",
    "\n",
    "        Parameters\n",
    "        ----------\n",
    "        arg1 : list\n",
    "                A list of lists of integers where the ith sub-list is a list of IDs\n",
    "                of documents in their predicted order of relevance to the ith query\n",
    "        arg2 : list\n",
    "                A list of IDs of the queries for which the documents are ordered\n",
    "        arg3 : list\n",
    "                A list of dictionaries containing document-relevance\n",
    "                judgements - Refer cran_qrels.json for the structure of each\n",
    "                dictionary\n",
    "        arg4 : int\n",
    "                The k value\n",
    "\n",
    "        Returns\n",
    "        -------\n",
    "        float\n",
    "                The mean nDCG value as a number between 0 and 1\n",
    "        \"\"\"\n",
    "\n",
    "        number_of_queries = len(query_ids)\n",
    "        nDCGs = []\n",
    "        try:\n",
    "            assert len(doc_IDs_ordered) == len(\n",
    "                query_ids), \"Number of queries not equal to the number of sets of documents retrieved.\\nReturning -1.\"\n",
    "            for i in range(number_of_queries):\n",
    "                query_doc_IDs_ordered = doc_IDs_ordered[i]\n",
    "                query_id = int(query_ids[i])\n",
    "                nDCG = self.queryNDCG(\n",
    "                    query_doc_IDs_ordered, query_id, qrels, k)\n",
    "                nDCGs.append(nDCG)\n",
    "            try:\n",
    "                assert len(nDCGs) != 0, \"Error! Empty list. Returning -1.\"\n",
    "                return sum(nDCGs)/len(nDCGs)\n",
    "            except AssertionError as msg:\n",
    "                print(msg)\n",
    "                return -1\n",
    "\n",
    "        except AssertionError as message:\n",
    "            print(message)\n",
    "            return -1\n",
    "\n",
    "    def queryAveragePrecision(self, query_doc_IDs_ordered, query_id, true_doc_IDs, k):\n",
    "        \"\"\"\n",
    "        Computation of average precision of the Information Retrieval System\n",
    "        at a given value of k for a single query (the average of precision@i\n",
    "        values for i such that the ith document is truly relevant)\n",
    "\n",
    "        Parameters\n",
    "        ----------\n",
    "        arg1 : list\n",
    "                A list of integers denoting the IDs of documents in\n",
    "                their predicted order of relevance to a query\n",
    "        arg2 : int\n",
    "                The ID of the query in question\n",
    "        arg3 : list\n",
    "                The list of documents relevant to the query (ground truth)\n",
    "        arg4 : int\n",
    "                The k value\n",
    "\n",
    "        Returns\n",
    "        -------\n",
    "        float\n",
    "                The average precision value as a number between 0 and 1\n",
    "        \"\"\"\n",
    "        number_of_true_docs = len(true_doc_IDs)\n",
    "        number_of_docs_retrieved = len(query_doc_IDs_ordered)\n",
    "        try:\n",
    "            assert k <= number_of_docs_retrieved, \"k greater than the number of documents retrived. Returning -1\"\n",
    "            relevances = []\n",
    "            precisions = []\n",
    "            for docID in query_doc_IDs_ordered:\n",
    "                if int(docID) in true_doc_IDs:\n",
    "                    relevances.append(1)\n",
    "                else:\n",
    "                    relevances.append(0)\n",
    "            for i in range(1, k+1):\n",
    "                precision_at_i = self.queryPrecision(\n",
    "                    query_doc_IDs_ordered, query_id, true_doc_IDs, i)\n",
    "                precisions.append(precision_at_i)\n",
    "\n",
    "            precision_at_k_times_rel_k = []\n",
    "            for i in range(k):\n",
    "                value = precisions[i]*relevances[i]\n",
    "                precision_at_k_times_rel_k.append(value)\n",
    "\n",
    "            try:\n",
    "                assert number_of_true_docs != 0, \"Number of true docs = 0. Returning -1.\"\n",
    "                AveP = sum(precision_at_k_times_rel_k)/number_of_true_docs\n",
    "\n",
    "                return AveP\n",
    "            except AssertionError as msg:\n",
    "                print(msg)\n",
    "                return -1\n",
    "\n",
    "        except AssertionError as message:\n",
    "            print(message)\n",
    "            return -1\n",
    "\n",
    "    def meanAveragePrecision(self, doc_IDs_ordered, query_ids, qrels, k):\n",
    "        \"\"\"\n",
    "        Computation of MAP of the Information Retrieval System\n",
    "        at given value of k, averaged over all the queries\n",
    "\n",
    "        Parameters\n",
    "        ----------\n",
    "        arg1 : list\n",
    "                A list of lists of integers where the ith sub-list is a list of IDs\n",
    "                of documents in their predicted order of relevance to the ith query\n",
    "        arg2 : list\n",
    "                A list of IDs of the queries\n",
    "        arg3 : list\n",
    "                A list of dictionaries containing document-relevance\n",
    "                judgements - Refer cran_qrels.json for the structure of each\n",
    "                dictionary\n",
    "        arg4 : int\n",
    "                The k value\n",
    "\n",
    "        Returns\n",
    "        -------\n",
    "        float\n",
    "                The MAP value as a number between 0 and 1\n",
    "        \"\"\"\n",
    "        number_of_queries = len(query_ids)\n",
    "        AvePs = []\n",
    "        try:\n",
    "            assert len(doc_IDs_ordered) == len(\n",
    "                query_ids), \"Number of queries not equal to the number of sets of documents retrieved.\\nReturning -1.\"\n",
    "            for i in range(number_of_queries):\n",
    "                query_doc_IDs_ordered = doc_IDs_ordered[i]\n",
    "                query_id = int(query_ids[i])\n",
    "                true_doc_IDs = []\n",
    "                for dict_ in qrels:\n",
    "                    if int(dict_[\"query_num\"]) == int(query_id):\n",
    "                        true_doc_IDs.append(int(dict_[\"id\"]))\n",
    "                AveP = self.queryAveragePrecision(\n",
    "                    query_doc_IDs_ordered, query_id, true_doc_IDs, k)\n",
    "                AvePs.append(AveP)\n",
    "            try:\n",
    "                assert len(AvePs) != 0, \"Error! Empty list. Returning -1.\"\n",
    "                return sum(AvePs)/len(AvePs)\n",
    "            except AssertionError as msg:\n",
    "                print(msg)\n",
    "                return -1\n",
    "\n",
    "        except AssertionError as message:\n",
    "            print(message)\n",
    "            return -1"
   ]
  },
  {
   "cell_type": "code",
   "execution_count": 7,
   "id": "f79a029a",
   "metadata": {},
   "outputs": [],
   "source": [
    "pq=[]\n",
    "ss=SentenceSegmentation()\n",
    "tk=Tokenization()\n",
    "sr=StopwordRemoval()\n",
    "ir=InformationRetrieval()\n",
    "eva=Evaluation()"
   ]
  },
  {
   "cell_type": "code",
   "execution_count": 8,
   "id": "0eaff7df",
   "metadata": {
    "id": "35c2a4d9"
   },
   "outputs": [],
   "source": [
    "# Read queries\n",
    "queries_json = json.load(open('./cranfield/'+ \"cran_queries.json\", 'r'))[:]\n",
    "query_ids, queries = [item[\"query number\"] for item in queries_json],[item[\"query\"] for item in queries_json]\n"
   ]
  },
  {
   "cell_type": "code",
   "execution_count": 9,
   "id": "16e540db",
   "metadata": {},
   "outputs": [],
   "source": [
    "# Process queries\n",
    "proc_queries=[]\n",
    "for q in queries:\n",
    "    ssq=ss.punkt(q)\n",
    "    tkq=tk.pennTreeBank(ssq)\n",
    "    srq=sr.fromList(tkq)\n",
    "    proc_queries.append(srq)"
   ]
  },
  {
   "cell_type": "code",
   "execution_count": 10,
   "id": "bd52b8a1",
   "metadata": {
    "id": "4e1ee22b"
   },
   "outputs": [],
   "source": [
    "# Read documents\n",
    "docs_json = json.load(open('./cranfield/' + \"cran_docs.json\", 'r'))[:]\n",
    "doc_ids, docs = [item[\"id\"] for item in docs_json],[item[\"body\"] for item in docs_json]\n"
   ]
  },
  {
   "cell_type": "code",
   "execution_count": 11,
   "id": "f908f76c",
   "metadata": {},
   "outputs": [],
   "source": [
    "proc_docs=[]\n",
    "for d in docs:\n",
    "    ssd=ss.punkt(d)\n",
    "    tkd=tk.pennTreeBank(ssd)\n",
    "    srd=sr.fromList(tkd)\n",
    "    proc_docs.append(srd)"
   ]
  },
  {
   "cell_type": "code",
   "execution_count": 12,
   "id": "953d7a7d",
   "metadata": {},
   "outputs": [],
   "source": [
    "tfidf_docs_df=ir.buildIndex(proc_docs,doc_ids)"
   ]
  },
  {
   "cell_type": "code",
   "execution_count": 13,
   "id": "b8925ab1",
   "metadata": {},
   "outputs": [],
   "source": [
    "tfidf_queries_df=ir.tfidfq(proc_queries)"
   ]
  },
  {
   "cell_type": "code",
   "execution_count": 14,
   "id": "d198fad4",
   "metadata": {
    "scrolled": true
   },
   "outputs": [],
   "source": [
    "lsadocs=ir.lsa_doc(tfidf_docs_df,1000)"
   ]
  },
  {
   "cell_type": "code",
   "execution_count": 15,
   "id": "cb4d197e",
   "metadata": {},
   "outputs": [],
   "source": [
    "lsaqueries=ir.lsa_query(tfidf_queries_df)"
   ]
  },
  {
   "cell_type": "code",
   "execution_count": 16,
   "id": "4ebedfc2",
   "metadata": {},
   "outputs": [],
   "source": [
    "doc_lsa_w2v=ir.w2v(lsadocs)"
   ]
  },
  {
   "cell_type": "code",
   "execution_count": 17,
   "id": "b5a923fa",
   "metadata": {},
   "outputs": [],
   "source": [
    "q_lsa_w2v=ir.w2v(lsaqueries)"
   ]
  },
  {
   "cell_type": "code",
   "execution_count": 18,
   "id": "7db44845",
   "metadata": {},
   "outputs": [],
   "source": [
    "doc_w2v=ir.w2v(tfidf_docs_df)\n",
    "q_w2v=ir.w2v(tfidf_queries_df)"
   ]
  },
  {
   "cell_type": "code",
   "execution_count": 19,
   "id": "018324ce",
   "metadata": {},
   "outputs": [],
   "source": [
    "doc_ord_mod3=ir.rank(doc_ids,doc_lsa_w2v,q_lsa_w2v)"
   ]
  },
  {
   "cell_type": "code",
   "execution_count": 20,
   "id": "01bdbe21",
   "metadata": {},
   "outputs": [],
   "source": [
    "doc_ord_mod2=ir.rank(doc_ids,lsadocs,lsaqueries)"
   ]
  },
  {
   "cell_type": "code",
   "execution_count": 21,
   "id": "b0d27e89",
   "metadata": {},
   "outputs": [],
   "source": [
    "doc_ord_mod1=ir.rank(doc_ids,tfidf_docs_df,tfidf_queries_df)"
   ]
  },
  {
   "cell_type": "code",
   "execution_count": 22,
   "id": "c50376db",
   "metadata": {},
   "outputs": [],
   "source": [
    "doc_ord_mod4=ir.rank(doc_ids,doc_w2v,q_w2v)"
   ]
  },
  {
   "cell_type": "code",
   "execution_count": 23,
   "id": "90452707",
   "metadata": {},
   "outputs": [],
   "source": [
    "ev=Evaluation()\n"
   ]
  },
  {
   "cell_type": "code",
   "execution_count": 24,
   "id": "35cdd72e",
   "metadata": {},
   "outputs": [],
   "source": [
    "qrels = json.load(open('./cranfield/' + \"cran_qrels.json\", 'r'))[:]"
   ]
  },
  {
   "cell_type": "code",
   "execution_count": 25,
   "id": "9a54c498",
   "metadata": {},
   "outputs": [
    {
     "name": "stderr",
     "output_type": "stream",
     "text": [
      "<ipython-input-6-1af4774e9b87>:32: FutureWarning: The behavior of `series[i:j]` with an integer-dtype index is deprecated. In a future version, this will be treated as *label-based* indexing, consistent with e.g. `series[i]` lookups. To retain the old behavior, use `series.iloc[i:j]`. To get the future behavior, use `series.loc[i:j]`.\n",
      "  for docID in query_doc_IDs_ordered[:k]:\n"
     ]
    },
    {
     "data": {
      "text/plain": [
       "0.19470582159271294"
      ]
     },
     "execution_count": 25,
     "metadata": {},
     "output_type": "execute_result"
    }
   ],
   "source": [
    "ev.meanAveragePrecision(doc_ord_mod4,query_ids,qrels,10)"
   ]
  },
  {
   "cell_type": "code",
   "execution_count": 26,
   "id": "45139980",
   "metadata": {},
   "outputs": [
    {
     "name": "stderr",
     "output_type": "stream",
     "text": [
      "<ipython-input-6-1af4774e9b87>:32: FutureWarning: The behavior of `series[i:j]` with an integer-dtype index is deprecated. In a future version, this will be treated as *label-based* indexing, consistent with e.g. `series[i]` lookups. To retain the old behavior, use `series.iloc[i:j]`. To get the future behavior, use `series.loc[i:j]`.\n",
      "  for docID in query_doc_IDs_ordered[:k]:\n"
     ]
    },
    {
     "data": {
      "text/plain": [
       "0.2158916231308617"
      ]
     },
     "execution_count": 26,
     "metadata": {},
     "output_type": "execute_result"
    }
   ],
   "source": [
    "ev.meanAveragePrecision(doc_ord_mod3,query_ids,qrels,10)"
   ]
  },
  {
   "cell_type": "code",
   "execution_count": 27,
   "id": "b234965f",
   "metadata": {},
   "outputs": [
    {
     "name": "stderr",
     "output_type": "stream",
     "text": [
      "<ipython-input-6-1af4774e9b87>:32: FutureWarning: The behavior of `series[i:j]` with an integer-dtype index is deprecated. In a future version, this will be treated as *label-based* indexing, consistent with e.g. `series[i]` lookups. To retain the old behavior, use `series.iloc[i:j]`. To get the future behavior, use `series.loc[i:j]`.\n",
      "  for docID in query_doc_IDs_ordered[:k]:\n"
     ]
    },
    {
     "data": {
      "text/plain": [
       "0.32218874416986143"
      ]
     },
     "execution_count": 27,
     "metadata": {},
     "output_type": "execute_result"
    }
   ],
   "source": [
    "ev.meanAveragePrecision(doc_ord_mod2,query_ids,qrels,10)"
   ]
  },
  {
   "cell_type": "code",
   "execution_count": 28,
   "id": "81265a19",
   "metadata": {},
   "outputs": [
    {
     "name": "stderr",
     "output_type": "stream",
     "text": [
      "<ipython-input-6-1af4774e9b87>:32: FutureWarning: The behavior of `series[i:j]` with an integer-dtype index is deprecated. In a future version, this will be treated as *label-based* indexing, consistent with e.g. `series[i]` lookups. To retain the old behavior, use `series.iloc[i:j]`. To get the future behavior, use `series.loc[i:j]`.\n",
      "  for docID in query_doc_IDs_ordered[:k]:\n"
     ]
    },
    {
     "data": {
      "text/plain": [
       "0.3160756479612174"
      ]
     },
     "execution_count": 28,
     "metadata": {},
     "output_type": "execute_result"
    }
   ],
   "source": [
    "ev.meanAveragePrecision(doc_ord_mod1,query_ids,qrels,10)"
   ]
  },
  {
   "cell_type": "code",
   "execution_count": 49,
   "id": "ad996482",
   "metadata": {},
   "outputs": [],
   "source": [
    "def lsa_model(k):\n",
    "    lsadocs=ir.lsa_doc(tfidf_docs_df,k)\n",
    "    lsaqueries=ir.lsa_query(tfidf_queries_df)\n",
    "    doc_ord=ir.rank(doc_ids,lsadocs,lsaqueries)\n",
    "    return doc_ord,ev.meanAveragePrecision(doc_ord,query_ids,qrels,1)"
   ]
  },
  {
   "cell_type": "code",
   "execution_count": 50,
   "id": "0bca9f3f",
   "metadata": {},
   "outputs": [],
   "source": [
    "def lsa_model2(k):\n",
    "    lsadocs=ir.lsa_doc(tfidf_docs_df,k)\n",
    "    lsaqueries=ir.lsa_query(tfidf_queries_df)\n",
    "    lsa_w2v=ir.w2v(lsadocs)\n",
    "    q_w2v=ir.w2v(lsaqueries)\n",
    "    doc_ord=ir.rank(doc_ids,lsa_w2v,q_w2v)\n",
    "    return doc_ord,ev.meanAveragePrecision(doc_ord,query_ids,qrels,1)"
   ]
  },
  {
   "cell_type": "code",
   "execution_count": 51,
   "id": "c3add50f",
   "metadata": {
    "scrolled": true
   },
   "outputs": [
    {
     "name": "stderr",
     "output_type": "stream",
     "text": [
      "<ipython-input-6-1af4774e9b87>:32: FutureWarning: The behavior of `series[i:j]` with an integer-dtype index is deprecated. In a future version, this will be treated as *label-based* indexing, consistent with e.g. `series[i]` lookups. To retain the old behavior, use `series.iloc[i:j]`. To get the future behavior, use `series.loc[i:j]`.\n",
      "  for docID in query_doc_IDs_ordered[:k]:\n",
      "<ipython-input-6-1af4774e9b87>:32: FutureWarning: The behavior of `series[i:j]` with an integer-dtype index is deprecated. In a future version, this will be treated as *label-based* indexing, consistent with e.g. `series[i]` lookups. To retain the old behavior, use `series.iloc[i:j]`. To get the future behavior, use `series.loc[i:j]`.\n",
      "  for docID in query_doc_IDs_ordered[:k]:\n",
      "<ipython-input-6-1af4774e9b87>:32: FutureWarning: The behavior of `series[i:j]` with an integer-dtype index is deprecated. In a future version, this will be treated as *label-based* indexing, consistent with e.g. `series[i]` lookups. To retain the old behavior, use `series.iloc[i:j]`. To get the future behavior, use `series.loc[i:j]`.\n",
      "  for docID in query_doc_IDs_ordered[:k]:\n",
      "<ipython-input-6-1af4774e9b87>:32: FutureWarning: The behavior of `series[i:j]` with an integer-dtype index is deprecated. In a future version, this will be treated as *label-based* indexing, consistent with e.g. `series[i]` lookups. To retain the old behavior, use `series.iloc[i:j]`. To get the future behavior, use `series.loc[i:j]`.\n",
      "  for docID in query_doc_IDs_ordered[:k]:\n",
      "<ipython-input-6-1af4774e9b87>:32: FutureWarning: The behavior of `series[i:j]` with an integer-dtype index is deprecated. In a future version, this will be treated as *label-based* indexing, consistent with e.g. `series[i]` lookups. To retain the old behavior, use `series.iloc[i:j]`. To get the future behavior, use `series.loc[i:j]`.\n",
      "  for docID in query_doc_IDs_ordered[:k]:\n",
      "<ipython-input-6-1af4774e9b87>:32: FutureWarning: The behavior of `series[i:j]` with an integer-dtype index is deprecated. In a future version, this will be treated as *label-based* indexing, consistent with e.g. `series[i]` lookups. To retain the old behavior, use `series.iloc[i:j]`. To get the future behavior, use `series.loc[i:j]`.\n",
      "  for docID in query_doc_IDs_ordered[:k]:\n",
      "<ipython-input-6-1af4774e9b87>:32: FutureWarning: The behavior of `series[i:j]` with an integer-dtype index is deprecated. In a future version, this will be treated as *label-based* indexing, consistent with e.g. `series[i]` lookups. To retain the old behavior, use `series.iloc[i:j]`. To get the future behavior, use `series.loc[i:j]`.\n",
      "  for docID in query_doc_IDs_ordered[:k]:\n",
      "<ipython-input-6-1af4774e9b87>:32: FutureWarning: The behavior of `series[i:j]` with an integer-dtype index is deprecated. In a future version, this will be treated as *label-based* indexing, consistent with e.g. `series[i]` lookups. To retain the old behavior, use `series.iloc[i:j]`. To get the future behavior, use `series.loc[i:j]`.\n",
      "  for docID in query_doc_IDs_ordered[:k]:\n",
      "<ipython-input-6-1af4774e9b87>:32: FutureWarning: The behavior of `series[i:j]` with an integer-dtype index is deprecated. In a future version, this will be treated as *label-based* indexing, consistent with e.g. `series[i]` lookups. To retain the old behavior, use `series.iloc[i:j]`. To get the future behavior, use `series.loc[i:j]`.\n",
      "  for docID in query_doc_IDs_ordered[:k]:\n",
      "<ipython-input-6-1af4774e9b87>:32: FutureWarning: The behavior of `series[i:j]` with an integer-dtype index is deprecated. In a future version, this will be treated as *label-based* indexing, consistent with e.g. `series[i]` lookups. To retain the old behavior, use `series.iloc[i:j]`. To get the future behavior, use `series.loc[i:j]`.\n",
      "  for docID in query_doc_IDs_ordered[:k]:\n",
      "<ipython-input-6-1af4774e9b87>:32: FutureWarning: The behavior of `series[i:j]` with an integer-dtype index is deprecated. In a future version, this will be treated as *label-based* indexing, consistent with e.g. `series[i]` lookups. To retain the old behavior, use `series.iloc[i:j]`. To get the future behavior, use `series.loc[i:j]`.\n",
      "  for docID in query_doc_IDs_ordered[:k]:\n",
      "<ipython-input-6-1af4774e9b87>:32: FutureWarning: The behavior of `series[i:j]` with an integer-dtype index is deprecated. In a future version, this will be treated as *label-based* indexing, consistent with e.g. `series[i]` lookups. To retain the old behavior, use `series.iloc[i:j]`. To get the future behavior, use `series.loc[i:j]`.\n",
      "  for docID in query_doc_IDs_ordered[:k]:\n",
      "<ipython-input-6-1af4774e9b87>:32: FutureWarning: The behavior of `series[i:j]` with an integer-dtype index is deprecated. In a future version, this will be treated as *label-based* indexing, consistent with e.g. `series[i]` lookups. To retain the old behavior, use `series.iloc[i:j]`. To get the future behavior, use `series.loc[i:j]`.\n",
      "  for docID in query_doc_IDs_ordered[:k]:\n",
      "<ipython-input-6-1af4774e9b87>:32: FutureWarning: The behavior of `series[i:j]` with an integer-dtype index is deprecated. In a future version, this will be treated as *label-based* indexing, consistent with e.g. `series[i]` lookups. To retain the old behavior, use `series.iloc[i:j]`. To get the future behavior, use `series.loc[i:j]`.\n",
      "  for docID in query_doc_IDs_ordered[:k]:\n",
      "<ipython-input-6-1af4774e9b87>:32: FutureWarning: The behavior of `series[i:j]` with an integer-dtype index is deprecated. In a future version, this will be treated as *label-based* indexing, consistent with e.g. `series[i]` lookups. To retain the old behavior, use `series.iloc[i:j]`. To get the future behavior, use `series.loc[i:j]`.\n",
      "  for docID in query_doc_IDs_ordered[:k]:\n",
      "<ipython-input-6-1af4774e9b87>:32: FutureWarning: The behavior of `series[i:j]` with an integer-dtype index is deprecated. In a future version, this will be treated as *label-based* indexing, consistent with e.g. `series[i]` lookups. To retain the old behavior, use `series.iloc[i:j]`. To get the future behavior, use `series.loc[i:j]`.\n",
      "  for docID in query_doc_IDs_ordered[:k]:\n",
      "<ipython-input-6-1af4774e9b87>:32: FutureWarning: The behavior of `series[i:j]` with an integer-dtype index is deprecated. In a future version, this will be treated as *label-based* indexing, consistent with e.g. `series[i]` lookups. To retain the old behavior, use `series.iloc[i:j]`. To get the future behavior, use `series.loc[i:j]`.\n",
      "  for docID in query_doc_IDs_ordered[:k]:\n",
      "<ipython-input-6-1af4774e9b87>:32: FutureWarning: The behavior of `series[i:j]` with an integer-dtype index is deprecated. In a future version, this will be treated as *label-based* indexing, consistent with e.g. `series[i]` lookups. To retain the old behavior, use `series.iloc[i:j]`. To get the future behavior, use `series.loc[i:j]`.\n",
      "  for docID in query_doc_IDs_ordered[:k]:\n",
      "<ipython-input-6-1af4774e9b87>:32: FutureWarning: The behavior of `series[i:j]` with an integer-dtype index is deprecated. In a future version, this will be treated as *label-based* indexing, consistent with e.g. `series[i]` lookups. To retain the old behavior, use `series.iloc[i:j]`. To get the future behavior, use `series.loc[i:j]`.\n",
      "  for docID in query_doc_IDs_ordered[:k]:\n",
      "<ipython-input-6-1af4774e9b87>:32: FutureWarning: The behavior of `series[i:j]` with an integer-dtype index is deprecated. In a future version, this will be treated as *label-based* indexing, consistent with e.g. `series[i]` lookups. To retain the old behavior, use `series.iloc[i:j]`. To get the future behavior, use `series.loc[i:j]`.\n",
      "  for docID in query_doc_IDs_ordered[:k]:\n",
      "<ipython-input-6-1af4774e9b87>:32: FutureWarning: The behavior of `series[i:j]` with an integer-dtype index is deprecated. In a future version, this will be treated as *label-based* indexing, consistent with e.g. `series[i]` lookups. To retain the old behavior, use `series.iloc[i:j]`. To get the future behavior, use `series.loc[i:j]`.\n",
      "  for docID in query_doc_IDs_ordered[:k]:\n",
      "<ipython-input-6-1af4774e9b87>:32: FutureWarning: The behavior of `series[i:j]` with an integer-dtype index is deprecated. In a future version, this will be treated as *label-based* indexing, consistent with e.g. `series[i]` lookups. To retain the old behavior, use `series.iloc[i:j]`. To get the future behavior, use `series.loc[i:j]`.\n",
      "  for docID in query_doc_IDs_ordered[:k]:\n"
     ]
    },
    {
     "name": "stderr",
     "output_type": "stream",
     "text": [
      "<ipython-input-6-1af4774e9b87>:32: FutureWarning: The behavior of `series[i:j]` with an integer-dtype index is deprecated. In a future version, this will be treated as *label-based* indexing, consistent with e.g. `series[i]` lookups. To retain the old behavior, use `series.iloc[i:j]`. To get the future behavior, use `series.loc[i:j]`.\n",
      "  for docID in query_doc_IDs_ordered[:k]:\n",
      "<ipython-input-6-1af4774e9b87>:32: FutureWarning: The behavior of `series[i:j]` with an integer-dtype index is deprecated. In a future version, this will be treated as *label-based* indexing, consistent with e.g. `series[i]` lookups. To retain the old behavior, use `series.iloc[i:j]`. To get the future behavior, use `series.loc[i:j]`.\n",
      "  for docID in query_doc_IDs_ordered[:k]:\n",
      "<ipython-input-6-1af4774e9b87>:32: FutureWarning: The behavior of `series[i:j]` with an integer-dtype index is deprecated. In a future version, this will be treated as *label-based* indexing, consistent with e.g. `series[i]` lookups. To retain the old behavior, use `series.iloc[i:j]`. To get the future behavior, use `series.loc[i:j]`.\n",
      "  for docID in query_doc_IDs_ordered[:k]:\n",
      "<ipython-input-6-1af4774e9b87>:32: FutureWarning: The behavior of `series[i:j]` with an integer-dtype index is deprecated. In a future version, this will be treated as *label-based* indexing, consistent with e.g. `series[i]` lookups. To retain the old behavior, use `series.iloc[i:j]`. To get the future behavior, use `series.loc[i:j]`.\n",
      "  for docID in query_doc_IDs_ordered[:k]:\n",
      "<ipython-input-6-1af4774e9b87>:32: FutureWarning: The behavior of `series[i:j]` with an integer-dtype index is deprecated. In a future version, this will be treated as *label-based* indexing, consistent with e.g. `series[i]` lookups. To retain the old behavior, use `series.iloc[i:j]`. To get the future behavior, use `series.loc[i:j]`.\n",
      "  for docID in query_doc_IDs_ordered[:k]:\n",
      "<ipython-input-6-1af4774e9b87>:32: FutureWarning: The behavior of `series[i:j]` with an integer-dtype index is deprecated. In a future version, this will be treated as *label-based* indexing, consistent with e.g. `series[i]` lookups. To retain the old behavior, use `series.iloc[i:j]`. To get the future behavior, use `series.loc[i:j]`.\n",
      "  for docID in query_doc_IDs_ordered[:k]:\n",
      "<ipython-input-6-1af4774e9b87>:32: FutureWarning: The behavior of `series[i:j]` with an integer-dtype index is deprecated. In a future version, this will be treated as *label-based* indexing, consistent with e.g. `series[i]` lookups. To retain the old behavior, use `series.iloc[i:j]`. To get the future behavior, use `series.loc[i:j]`.\n",
      "  for docID in query_doc_IDs_ordered[:k]:\n",
      "<ipython-input-6-1af4774e9b87>:32: FutureWarning: The behavior of `series[i:j]` with an integer-dtype index is deprecated. In a future version, this will be treated as *label-based* indexing, consistent with e.g. `series[i]` lookups. To retain the old behavior, use `series.iloc[i:j]`. To get the future behavior, use `series.loc[i:j]`.\n",
      "  for docID in query_doc_IDs_ordered[:k]:\n"
     ]
    }
   ],
   "source": [
    "order=[]\n",
    "MAP=[]\n",
    "for i in range(100,3100,100):\n",
    "    o,m = lsa_model(i)\n",
    "    order.append(o)\n",
    "    MAP.append(m)\n"
   ]
  },
  {
   "cell_type": "code",
   "execution_count": 64,
   "id": "5e6c5080",
   "metadata": {
    "scrolled": false
   },
   "outputs": [
    {
     "data": {
      "image/png": "[encoded data removed]",
      "text/plain": [
       "<Figure size 1080x720 with 1 Axes>"
      ]
     },
     "metadata": {
      "needs_background": "light"
     },
     "output_type": "display_data"
    }
   ],
   "source": [
    "plt.figure(figsize=[15,10])\n",
    "plt.plot(range(100,3100,100),MAP,'-s')\n",
    "plt.title('Number of Latent Variables Vs MAP for LSA')\n",
    "plt.xlabel('Number of Latent Variables')\n",
    "plt.ylabel('MAP @ k = 1')\n",
    "plt.show()"
   ]
  },
  {
   "cell_type": "code",
   "execution_count": 53,
   "id": "36e2fb55",
   "metadata": {},
   "outputs": [
    {
     "name": "stderr",
     "output_type": "stream",
     "text": [
      "<ipython-input-6-1af4774e9b87>:32: FutureWarning: The behavior of `series[i:j]` with an integer-dtype index is deprecated. In a future version, this will be treated as *label-based* indexing, consistent with e.g. `series[i]` lookups. To retain the old behavior, use `series.iloc[i:j]`. To get the future behavior, use `series.loc[i:j]`.\n",
      "  for docID in query_doc_IDs_ordered[:k]:\n",
      "<ipython-input-6-1af4774e9b87>:32: FutureWarning: The behavior of `series[i:j]` with an integer-dtype index is deprecated. In a future version, this will be treated as *label-based* indexing, consistent with e.g. `series[i]` lookups. To retain the old behavior, use `series.iloc[i:j]`. To get the future behavior, use `series.loc[i:j]`.\n",
      "  for docID in query_doc_IDs_ordered[:k]:\n",
      "<ipython-input-6-1af4774e9b87>:32: FutureWarning: The behavior of `series[i:j]` with an integer-dtype index is deprecated. In a future version, this will be treated as *label-based* indexing, consistent with e.g. `series[i]` lookups. To retain the old behavior, use `series.iloc[i:j]`. To get the future behavior, use `series.loc[i:j]`.\n",
      "  for docID in query_doc_IDs_ordered[:k]:\n",
      "<ipython-input-6-1af4774e9b87>:32: FutureWarning: The behavior of `series[i:j]` with an integer-dtype index is deprecated. In a future version, this will be treated as *label-based* indexing, consistent with e.g. `series[i]` lookups. To retain the old behavior, use `series.iloc[i:j]`. To get the future behavior, use `series.loc[i:j]`.\n",
      "  for docID in query_doc_IDs_ordered[:k]:\n",
      "<ipython-input-6-1af4774e9b87>:32: FutureWarning: The behavior of `series[i:j]` with an integer-dtype index is deprecated. In a future version, this will be treated as *label-based* indexing, consistent with e.g. `series[i]` lookups. To retain the old behavior, use `series.iloc[i:j]`. To get the future behavior, use `series.loc[i:j]`.\n",
      "  for docID in query_doc_IDs_ordered[:k]:\n",
      "<ipython-input-6-1af4774e9b87>:32: FutureWarning: The behavior of `series[i:j]` with an integer-dtype index is deprecated. In a future version, this will be treated as *label-based* indexing, consistent with e.g. `series[i]` lookups. To retain the old behavior, use `series.iloc[i:j]`. To get the future behavior, use `series.loc[i:j]`.\n",
      "  for docID in query_doc_IDs_ordered[:k]:\n",
      "<ipython-input-6-1af4774e9b87>:32: FutureWarning: The behavior of `series[i:j]` with an integer-dtype index is deprecated. In a future version, this will be treated as *label-based* indexing, consistent with e.g. `series[i]` lookups. To retain the old behavior, use `series.iloc[i:j]`. To get the future behavior, use `series.loc[i:j]`.\n",
      "  for docID in query_doc_IDs_ordered[:k]:\n",
      "<ipython-input-6-1af4774e9b87>:32: FutureWarning: The behavior of `series[i:j]` with an integer-dtype index is deprecated. In a future version, this will be treated as *label-based* indexing, consistent with e.g. `series[i]` lookups. To retain the old behavior, use `series.iloc[i:j]`. To get the future behavior, use `series.loc[i:j]`.\n",
      "  for docID in query_doc_IDs_ordered[:k]:\n",
      "<ipython-input-6-1af4774e9b87>:32: FutureWarning: The behavior of `series[i:j]` with an integer-dtype index is deprecated. In a future version, this will be treated as *label-based* indexing, consistent with e.g. `series[i]` lookups. To retain the old behavior, use `series.iloc[i:j]`. To get the future behavior, use `series.loc[i:j]`.\n",
      "  for docID in query_doc_IDs_ordered[:k]:\n",
      "<ipython-input-6-1af4774e9b87>:32: FutureWarning: The behavior of `series[i:j]` with an integer-dtype index is deprecated. In a future version, this will be treated as *label-based* indexing, consistent with e.g. `series[i]` lookups. To retain the old behavior, use `series.iloc[i:j]`. To get the future behavior, use `series.loc[i:j]`.\n",
      "  for docID in query_doc_IDs_ordered[:k]:\n",
      "<ipython-input-6-1af4774e9b87>:32: FutureWarning: The behavior of `series[i:j]` with an integer-dtype index is deprecated. In a future version, this will be treated as *label-based* indexing, consistent with e.g. `series[i]` lookups. To retain the old behavior, use `series.iloc[i:j]`. To get the future behavior, use `series.loc[i:j]`.\n",
      "  for docID in query_doc_IDs_ordered[:k]:\n",
      "<ipython-input-6-1af4774e9b87>:32: FutureWarning: The behavior of `series[i:j]` with an integer-dtype index is deprecated. In a future version, this will be treated as *label-based* indexing, consistent with e.g. `series[i]` lookups. To retain the old behavior, use `series.iloc[i:j]`. To get the future behavior, use `series.loc[i:j]`.\n",
      "  for docID in query_doc_IDs_ordered[:k]:\n",
      "<ipython-input-6-1af4774e9b87>:32: FutureWarning: The behavior of `series[i:j]` with an integer-dtype index is deprecated. In a future version, this will be treated as *label-based* indexing, consistent with e.g. `series[i]` lookups. To retain the old behavior, use `series.iloc[i:j]`. To get the future behavior, use `series.loc[i:j]`.\n",
      "  for docID in query_doc_IDs_ordered[:k]:\n",
      "<ipython-input-6-1af4774e9b87>:32: FutureWarning: The behavior of `series[i:j]` with an integer-dtype index is deprecated. In a future version, this will be treated as *label-based* indexing, consistent with e.g. `series[i]` lookups. To retain the old behavior, use `series.iloc[i:j]`. To get the future behavior, use `series.loc[i:j]`.\n",
      "  for docID in query_doc_IDs_ordered[:k]:\n",
      "<ipython-input-6-1af4774e9b87>:32: FutureWarning: The behavior of `series[i:j]` with an integer-dtype index is deprecated. In a future version, this will be treated as *label-based* indexing, consistent with e.g. `series[i]` lookups. To retain the old behavior, use `series.iloc[i:j]`. To get the future behavior, use `series.loc[i:j]`.\n",
      "  for docID in query_doc_IDs_ordered[:k]:\n",
      "<ipython-input-6-1af4774e9b87>:32: FutureWarning: The behavior of `series[i:j]` with an integer-dtype index is deprecated. In a future version, this will be treated as *label-based* indexing, consistent with e.g. `series[i]` lookups. To retain the old behavior, use `series.iloc[i:j]`. To get the future behavior, use `series.loc[i:j]`.\n",
      "  for docID in query_doc_IDs_ordered[:k]:\n",
      "<ipython-input-6-1af4774e9b87>:32: FutureWarning: The behavior of `series[i:j]` with an integer-dtype index is deprecated. In a future version, this will be treated as *label-based* indexing, consistent with e.g. `series[i]` lookups. To retain the old behavior, use `series.iloc[i:j]`. To get the future behavior, use `series.loc[i:j]`.\n",
      "  for docID in query_doc_IDs_ordered[:k]:\n",
      "<ipython-input-6-1af4774e9b87>:32: FutureWarning: The behavior of `series[i:j]` with an integer-dtype index is deprecated. In a future version, this will be treated as *label-based* indexing, consistent with e.g. `series[i]` lookups. To retain the old behavior, use `series.iloc[i:j]`. To get the future behavior, use `series.loc[i:j]`.\n",
      "  for docID in query_doc_IDs_ordered[:k]:\n",
      "<ipython-input-6-1af4774e9b87>:32: FutureWarning: The behavior of `series[i:j]` with an integer-dtype index is deprecated. In a future version, this will be treated as *label-based* indexing, consistent with e.g. `series[i]` lookups. To retain the old behavior, use `series.iloc[i:j]`. To get the future behavior, use `series.loc[i:j]`.\n",
      "  for docID in query_doc_IDs_ordered[:k]:\n",
      "<ipython-input-6-1af4774e9b87>:32: FutureWarning: The behavior of `series[i:j]` with an integer-dtype index is deprecated. In a future version, this will be treated as *label-based* indexing, consistent with e.g. `series[i]` lookups. To retain the old behavior, use `series.iloc[i:j]`. To get the future behavior, use `series.loc[i:j]`.\n",
      "  for docID in query_doc_IDs_ordered[:k]:\n",
      "<ipython-input-6-1af4774e9b87>:32: FutureWarning: The behavior of `series[i:j]` with an integer-dtype index is deprecated. In a future version, this will be treated as *label-based* indexing, consistent with e.g. `series[i]` lookups. To retain the old behavior, use `series.iloc[i:j]`. To get the future behavior, use `series.loc[i:j]`.\n",
      "  for docID in query_doc_IDs_ordered[:k]:\n",
      "<ipython-input-6-1af4774e9b87>:32: FutureWarning: The behavior of `series[i:j]` with an integer-dtype index is deprecated. In a future version, this will be treated as *label-based* indexing, consistent with e.g. `series[i]` lookups. To retain the old behavior, use `series.iloc[i:j]`. To get the future behavior, use `series.loc[i:j]`.\n",
      "  for docID in query_doc_IDs_ordered[:k]:\n"
     ]
    },
    {
     "name": "stderr",
     "output_type": "stream",
     "text": [
      "<ipython-input-6-1af4774e9b87>:32: FutureWarning: The behavior of `series[i:j]` with an integer-dtype index is deprecated. In a future version, this will be treated as *label-based* indexing, consistent with e.g. `series[i]` lookups. To retain the old behavior, use `series.iloc[i:j]`. To get the future behavior, use `series.loc[i:j]`.\n",
      "  for docID in query_doc_IDs_ordered[:k]:\n",
      "<ipython-input-6-1af4774e9b87>:32: FutureWarning: The behavior of `series[i:j]` with an integer-dtype index is deprecated. In a future version, this will be treated as *label-based* indexing, consistent with e.g. `series[i]` lookups. To retain the old behavior, use `series.iloc[i:j]`. To get the future behavior, use `series.loc[i:j]`.\n",
      "  for docID in query_doc_IDs_ordered[:k]:\n",
      "<ipython-input-6-1af4774e9b87>:32: FutureWarning: The behavior of `series[i:j]` with an integer-dtype index is deprecated. In a future version, this will be treated as *label-based* indexing, consistent with e.g. `series[i]` lookups. To retain the old behavior, use `series.iloc[i:j]`. To get the future behavior, use `series.loc[i:j]`.\n",
      "  for docID in query_doc_IDs_ordered[:k]:\n",
      "<ipython-input-6-1af4774e9b87>:32: FutureWarning: The behavior of `series[i:j]` with an integer-dtype index is deprecated. In a future version, this will be treated as *label-based* indexing, consistent with e.g. `series[i]` lookups. To retain the old behavior, use `series.iloc[i:j]`. To get the future behavior, use `series.loc[i:j]`.\n",
      "  for docID in query_doc_IDs_ordered[:k]:\n",
      "<ipython-input-6-1af4774e9b87>:32: FutureWarning: The behavior of `series[i:j]` with an integer-dtype index is deprecated. In a future version, this will be treated as *label-based* indexing, consistent with e.g. `series[i]` lookups. To retain the old behavior, use `series.iloc[i:j]`. To get the future behavior, use `series.loc[i:j]`.\n",
      "  for docID in query_doc_IDs_ordered[:k]:\n",
      "<ipython-input-6-1af4774e9b87>:32: FutureWarning: The behavior of `series[i:j]` with an integer-dtype index is deprecated. In a future version, this will be treated as *label-based* indexing, consistent with e.g. `series[i]` lookups. To retain the old behavior, use `series.iloc[i:j]`. To get the future behavior, use `series.loc[i:j]`.\n",
      "  for docID in query_doc_IDs_ordered[:k]:\n",
      "<ipython-input-6-1af4774e9b87>:32: FutureWarning: The behavior of `series[i:j]` with an integer-dtype index is deprecated. In a future version, this will be treated as *label-based* indexing, consistent with e.g. `series[i]` lookups. To retain the old behavior, use `series.iloc[i:j]`. To get the future behavior, use `series.loc[i:j]`.\n",
      "  for docID in query_doc_IDs_ordered[:k]:\n",
      "<ipython-input-6-1af4774e9b87>:32: FutureWarning: The behavior of `series[i:j]` with an integer-dtype index is deprecated. In a future version, this will be treated as *label-based* indexing, consistent with e.g. `series[i]` lookups. To retain the old behavior, use `series.iloc[i:j]`. To get the future behavior, use `series.loc[i:j]`.\n",
      "  for docID in query_doc_IDs_ordered[:k]:\n"
     ]
    }
   ],
   "source": [
    "order2=[]\n",
    "MAP2=[]\n",
    "for i in range(100,3100,100):\n",
    "    o,m = lsa_model2(i)\n",
    "    order2.append(o)\n",
    "    MAP2.append(m)\n"
   ]
  },
  {
   "cell_type": "code",
   "execution_count": 54,
   "id": "75cc6b4d",
   "metadata": {},
   "outputs": [
    {
     "data": {
      "image/png": "[encoded data removed]",
      "text/plain": [
       "<Figure size 1080x720 with 1 Axes>"
      ]
     },
     "metadata": {
      "needs_background": "light"
     },
     "output_type": "display_data"
    }
   ],
   "source": [
    "plt.figure(figsize=[15,10])\n",
    "plt.plot(range(100,3100,100),MAP2,'-s')\n",
    "plt.title('Number of Latent Variables Vs MAP for LSA+W2V')\n",
    "plt.xlabel('Number of Latent Variables')\n",
    "plt.ylabel('MAP @ k = 1')\n",
    "plt.show()"
   ]
  },
  {
   "cell_type": "code",
   "execution_count": 65,
   "id": "d48f30e8",
   "metadata": {},
   "outputs": [],
   "source": [
    "def eval_met(doc_ord_mod1):\n",
    "    prec=[]\n",
    "    meanap=[]\n",
    "    meanFscore=[]\n",
    "    meanrecall=[]\n",
    "    nDCG=[]\n",
    "    for i in range(1,20):\n",
    "        prec.append(ev.meanPrecision(doc_ord_mod1,query_ids,qrels,i))\n",
    "        meanap.append(ev.meanAveragePrecision(doc_ord_mod1,query_ids,qrels,i))\n",
    "        meanFscore.append(ev.meanFscore(doc_ord_mod1,query_ids,qrels,i))\n",
    "        meanrecall.append(ev.meanRecall(doc_ord_mod1,query_ids,qrels,i))\n",
    "        nDCG.append(ev.meanNDCG(doc_ord_mod1,query_ids,qrels,i))\n",
    "    model1=pd.DataFrame({'Precision':prec,'MaP':meanap,\"meanFscore\":meanFscore,'meanrecall':meanrecall,'MeanNDCG':nDCG})\n",
    "    return model1"
   ]
  },
  {
   "cell_type": "code",
   "execution_count": 71,
   "id": "75e25f8e",
   "metadata": {},
   "outputs": [],
   "source": [
    "def plot_model(df,title):\n",
    "    plt.figure(figsize=[12,10])\n",
    "    for i in df.columns:\n",
    "        plt.plot(range(1,20),df[i],label=i)\n",
    "        plt.legend()\n",
    "        plt.xlabel(\"k\")\n",
    "        plt.title(title)"
   ]
  },
  {
   "cell_type": "code",
   "execution_count": 72,
   "id": "16909cf0",
   "metadata": {},
   "outputs": [
    {
     "data": {
      "image/png": "[encoded data removed]",
      "text/plain": [
       "<Figure size 864x720 with 1 Axes>"
      ]
     },
     "metadata": {
      "needs_background": "light"
     },
     "output_type": "display_data"
    }
   ],
   "source": [
    "plot_model(model1,'Evaluation Metrics VSM-TFIDF')"
   ]
  },
  {
   "cell_type": "markdown",
   "id": "946bedf5",
   "metadata": {},
   "source": [
    "### Optimal LSA score "
   ]
  },
  {
   "cell_type": "code",
   "execution_count": null,
   "id": "da7c1869",
   "metadata": {},
   "outputs": [],
   "source": [
    "doc_ord_opt_lsa=order[4]\n",
    "eval_model_opt_lsa=eval_met(doc_ord_opt_lsa)\n"
   ]
  },
  {
   "cell_type": "code",
   "execution_count": 73,
   "id": "7d7e4707",
   "metadata": {},
   "outputs": [
    {
     "data": {
      "image/png": "[encoded data removed]",
      "text/plain": [
       "<Figure size 864x720 with 1 Axes>"
      ]
     },
     "metadata": {
      "needs_background": "light"
     },
     "output_type": "display_data"
    }
   ],
   "source": [
    "plot_model(eval_model_opt_lsa,'Evaluation Metrics Optimised LSA model')"
   ]
  },
  {
   "cell_type": "code",
   "execution_count": 68,
   "id": "79e0c474",
   "metadata": {},
   "outputs": [
    {
     "name": "stderr",
     "output_type": "stream",
     "text": [
      "<ipython-input-6-1af4774e9b87>:32: FutureWarning: The behavior of `series[i:j]` with an integer-dtype index is deprecated. In a future version, this will be treated as *label-based* indexing, consistent with e.g. `series[i]` lookups. To retain the old behavior, use `series.iloc[i:j]`. To get the future behavior, use `series.loc[i:j]`.\n",
      "  for docID in query_doc_IDs_ordered[:k]:\n"
     ]
    },
    {
     "data": {
      "text/plain": [
       "0.3300778709279173"
      ]
     },
     "execution_count": 68,
     "metadata": {},
     "output_type": "execute_result"
    }
   ],
   "source": [
    "ev.meanAveragePrecision(doc_ord_opt_lsa,query_ids,qrels,10)"
   ]
  },
  {
   "cell_type": "code",
   "execution_count": null,
   "id": "5f54a764",
   "metadata": {},
   "outputs": [],
   "source": [
    "eval_lsa_w2v_opt=eval_met(order2[4])\n"
   ]
  },
  {
   "cell_type": "code",
   "execution_count": 74,
   "id": "114c5692",
   "metadata": {},
   "outputs": [
    {
     "data": {
      "image/png": "[encoded data removed]",
      "text/plain": [
       "<Figure size 864x720 with 1 Axes>"
      ]
     },
     "metadata": {
      "needs_background": "light"
     },
     "output_type": "display_data"
    }
   ],
   "source": [
    "plot_model(eval_lsa_w2v_opt,'Evaluation Metrics Optimised LSA+W2V model')"
   ]
  }
 ],
 "metadata": {
  "colab": {
   "provenance": []
  },
  "kernelspec": {
   "display_name": "Python 3",
   "language": "python",
   "name": "python3"
  },
  "language_info": {
   "codemirror_mode": {
    "name": "ipython",
    "version": 3
   },
   "file_extension": ".py",
   "mimetype": "text/x-python",
   "name": "python",
   "nbconvert_exporter": "python",
   "pygments_lexer": "ipython3",
   "version": "3.8.10"
  }
 },
 "nbformat": 4,
 "nbformat_minor": 5
}
